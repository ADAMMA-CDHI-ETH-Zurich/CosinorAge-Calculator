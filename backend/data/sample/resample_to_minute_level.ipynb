{
 "cells": [
  {
   "cell_type": "code",
   "execution_count": 1,
   "id": "01b730a7",
   "metadata": {},
   "outputs": [
    {
     "ename": "ModuleNotFoundError",
     "evalue": "No module named 'pandas'",
     "output_type": "error",
     "traceback": [
      "\u001b[0;31m---------------------------------------------------------------------------\u001b[0m",
      "\u001b[0;31mModuleNotFoundError\u001b[0m                       Traceback (most recent call last)",
      "Cell \u001b[0;32mIn[1], line 1\u001b[0m\n\u001b[0;32m----> 1\u001b[0m \u001b[38;5;28;01mimport\u001b[39;00m\u001b[38;5;250m \u001b[39m\u001b[38;5;21;01mpandas\u001b[39;00m\u001b[38;5;250m \u001b[39m\u001b[38;5;28;01mas\u001b[39;00m\u001b[38;5;250m \u001b[39m\u001b[38;5;21;01mpd\u001b[39;00m\n\u001b[1;32m      2\u001b[0m \u001b[38;5;28;01mimport\u001b[39;00m\u001b[38;5;250m \u001b[39m\u001b[38;5;21;01mos\u001b[39;00m\n\u001b[1;32m      3\u001b[0m \u001b[38;5;28;01mfrom\u001b[39;00m\u001b[38;5;250m \u001b[39m\u001b[38;5;21;01mtqdm\u001b[39;00m\u001b[38;5;250m \u001b[39m\u001b[38;5;28;01mimport\u001b[39;00m tqdm\n",
      "\u001b[0;31mModuleNotFoundError\u001b[0m: No module named 'pandas'"
     ]
    }
   ],
   "source": [
    "import pandas as pd\n",
    "import os\n",
    "from tqdm import tqdm"
   ]
  },
  {
   "cell_type": "code",
   "execution_count": null,
   "id": "d95d6013",
   "metadata": {},
   "outputs": [],
   "source": [
    "# adjust the input and output directories to the correct path\n",
    "input_dir = \"../raw/watch_acc_ml\"\n",
    "output_dir = \"../processed/watch_acc_ml\"\n",
    "os.makedirs(output_dir, exist_ok=True)\n",
    "\n",
    "# get all the file paths in the input directory\n",
    "file_paths = [os.path.join(input_dir, f) for f in os.listdir(input_dir) if os.path.isfile(os.path.join(input_dir, f))]\n",
    "\n",
    "# process each file\n",
    "for file_path in file_paths:\n",
    "    try:\n",
    "        # read the file - potentially adjust the separator and header\n",
    "        df = pd.read_csv(file_path, sep=\" \", header=None)\n",
    "        df.columns = [\"timestamp\", \"x\", \"y\", \"z\"]\n",
    "\n",
    "        # the following code reconstructs the timestamp from the filename (assuming the base timestamp is in the filename) - this might vary depending on the data source\n",
    "        base_timestamp = float(os.path.basename(file_path).split(\".\")[0])\n",
    "        df[\"timestamp\"] = (base_timestamp + df[\"timestamp\"].values / 1000)\n",
    "\n",
    "        df.set_index(\"timestamp\", inplace=True)\n",
    "        df = df[~df.index.duplicated(keep='first')]\n",
    "        df = df.reset_index()\n",
    "        df[\"timestamp\"] = pd.to_datetime(df[\"timestamp\"], unit=\"s\")\n",
    "        df.set_index(\"timestamp\", inplace=True)\n",
    "\n",
    "        # resample data to 1-minute level\n",
    "        df_resampled = df.resample(\"1min\").mean().interpolate(\"linear\")\n",
    "        df_resampled = df_resampled.reset_index()\n",
    "\n",
    "        # convert timestamp to UTC assuming the data is in US/Eastern timezone\n",
    "        df_resampled[\"timestamp\"] = df_resampled[\"timestamp\"].dt.tz_localize(\"US/Eastern\").dt.tz_convert(\"UTC\")\n",
    "\n",
    "        # convert timestamp to Unix seconds\n",
    "        df_resampled[\"timestamp\"] = df_resampled[\"timestamp\"].astype(int) / 10**9  \n",
    "        df_resampled.set_index(\"timestamp\", inplace=True)\n",
    "\n",
    "        # export data to csv\n",
    "        output_filename = os.path.join(output_dir, f\"{os.path.splitext(os.path.basename(file_path))[0]}_watch_acc_ml.csv\")\n",
    "        df_resampled.to_csv(output_filename, index=True)\n",
    "        print(f\"Processed and saved: {output_filename}\")\n",
    "\n",
    "    except Exception as e:\n",
    "        print(f\"Error processing {file_path}: {e}\")\n",
    "        continue"
   ]
  }
 ],
 "metadata": {
  "kernelspec": {
   "display_name": "Python 3",
   "language": "python",
   "name": "python3"
  },
  "language_info": {
   "codemirror_mode": {
    "name": "ipython",
    "version": 3
   },
   "file_extension": ".py",
   "mimetype": "text/x-python",
   "name": "python",
   "nbconvert_exporter": "python",
   "pygments_lexer": "ipython3",
   "version": "3.10.18"
  }
 },
 "nbformat": 4,
 "nbformat_minor": 5
}
